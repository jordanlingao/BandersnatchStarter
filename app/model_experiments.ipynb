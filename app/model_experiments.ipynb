{
 "cells": [
  {
   "cell_type": "code",
   "execution_count": 2,
   "metadata": {},
   "outputs": [
    {
     "name": "stderr",
     "output_type": "stream",
     "text": [
      "2023-04-27 20:38:32.072766: I tensorflow/core/platform/cpu_feature_guard.cc:182] This TensorFlow binary is optimized to use available CPU instructions in performance-critical operations.\n",
      "To enable the following instructions: AVX2 FMA, in other operations, rebuild TensorFlow with the appropriate compiler flags.\n"
     ]
    }
   ],
   "source": [
    "# Imports\n",
    "import pandas as pd\n",
    "import numpy as np\n",
    "from data import Database\n",
    "from sklearn.model_selection import train_test_split, GridSearchCV\n",
    "from sklearn.ensemble import RandomForestClassifier\n",
    "import torch\n",
    "import torch.nn as nn\n",
    "import torch.nn.functional as F\n",
    "from sklearn.preprocessing import OrdinalEncoder\n",
    "from torch.utils.data import random_split, TensorDataset\n",
    "from sklearn.ensemble import RandomForestClassifier\n",
    "from sklearn.pipeline import make_pipeline, Pipeline\n",
    "from sklearn.model_selection import GridSearchCV\n",
    "from sklearn.linear_model import LogisticRegressionCV\n",
    "import tensorflow as tf\n",
    "from tensorflow.keras import Sequential\n",
    "from tensorflow.keras.callbacks import EarlyStopping\n",
    "from tensorflow.keras.layers import Dense, ReLU, Dropout\n",
    "from tensorflow.keras.activations import sigmoid, softmax\n",
    "from sklearn.preprocessing import StandardScaler"
   ]
  },
  {
   "cell_type": "code",
   "execution_count": 3,
   "metadata": {},
   "outputs": [],
   "source": [
    "db = Database()"
   ]
  },
  {
   "cell_type": "code",
   "execution_count": 35,
   "metadata": {},
   "outputs": [],
   "source": [
    "db.reset()\n",
    "db.seed(300)"
   ]
  },
  {
   "cell_type": "code",
   "execution_count": 4,
   "metadata": {},
   "outputs": [],
   "source": [
    "df = db.dataframe()\n",
    "enc = OrdinalEncoder()\n",
    "df[\"Rarity\"] = enc.fit_transform(df[[\"Rarity\"]])"
   ]
  },
  {
   "attachments": {},
   "cell_type": "markdown",
   "metadata": {},
   "source": [
    "# Split Data"
   ]
  },
  {
   "cell_type": "code",
   "execution_count": 10,
   "metadata": {},
   "outputs": [],
   "source": [
    "X = df[[\"Level\", \"Health\", \"Energy\", \"Sanity\"]]\n",
    "y = df[\"Rarity\"]\n",
    "X_train, X_test, y_train, y_test = train_test_split(X, y, test_size=.2, random_state=42)"
   ]
  },
  {
   "attachments": {},
   "cell_type": "markdown",
   "metadata": {},
   "source": [
    "# Establish Baseline\n",
    "baseline score = 0.34"
   ]
  },
  {
   "cell_type": "code",
   "execution_count": 38,
   "metadata": {},
   "outputs": [
    {
     "data": {
      "text/plain": [
       "0.26666666666666666"
      ]
     },
     "execution_count": 38,
     "metadata": {},
     "output_type": "execute_result"
    }
   ],
   "source": [
    "y_train.value_counts(normalize=True)[0]"
   ]
  },
  {
   "attachments": {},
   "cell_type": "markdown",
   "metadata": {},
   "source": [
    "# Random Forest\n",
    "best score = 0.88"
   ]
  },
  {
   "cell_type": "code",
   "execution_count": 11,
   "metadata": {},
   "outputs": [
    {
     "data": {
      "text/plain": [
       "0.8833333333333333"
      ]
     },
     "execution_count": 11,
     "metadata": {},
     "output_type": "execute_result"
    }
   ],
   "source": [
    "# instantiate class\n",
    "rf_pipe = Pipeline([\n",
    "    (\"scale\",StandardScaler()),\n",
    "    (\"clf\", RandomForestClassifier())\n",
    "])\n",
    "\n",
    "# param dict for grid search\n",
    "rf_param_dict = {\n",
    "    \"clf__n_estimators\" : [80, 100, 120],\n",
    "    \"clf__min_samples_split\" : [2, 4]\n",
    "}\n",
    "\n",
    "# instantiate and fit GridSearch\n",
    "rf_grid = GridSearchCV(rf_pipe, rf_param_dict)\n",
    "rf_grid.fit(X_train, y_train)\n",
    "rf_grid.best_estimator_.score(X_test, y_test)"
   ]
  },
  {
   "cell_type": "code",
   "execution_count": 16,
   "metadata": {},
   "outputs": [
    {
     "data": {
      "text/plain": [
       "0.79"
      ]
     },
     "execution_count": 16,
     "metadata": {},
     "output_type": "execute_result"
    }
   ],
   "source": [
    "rf_grid.predict_proba(X_test)[0].max()"
   ]
  },
  {
   "cell_type": "code",
   "execution_count": 35,
   "metadata": {},
   "outputs": [
    {
     "data": {
      "text/plain": [
       "{'clf__min_samples_split': 2, 'clf__n_estimators': 120}"
      ]
     },
     "execution_count": 35,
     "metadata": {},
     "output_type": "execute_result"
    }
   ],
   "source": [
    "rf_grid.best_params_"
   ]
  },
  {
   "cell_type": "code",
   "execution_count": 1,
   "metadata": {},
   "outputs": [
    {
     "ename": "NameError",
     "evalue": "name 'rf_grid' is not defined",
     "output_type": "error",
     "traceback": [
      "\u001b[0;31m---------------------------------------------------------------------------\u001b[0m",
      "\u001b[0;31mNameError\u001b[0m                                 Traceback (most recent call last)",
      "Cell \u001b[0;32mIn[1], line 1\u001b[0m\n\u001b[0;32m----> 1\u001b[0m rf_grid\u001b[39m.\u001b[39mbest_estimator_\u001b[39m.\u001b[39mpredict_proba(X_test)\n",
      "\u001b[0;31mNameError\u001b[0m: name 'rf_grid' is not defined"
     ]
    }
   ],
   "source": [
    "rf_grid.best_estimator_.predict_proba(X_test)"
   ]
  },
  {
   "attachments": {},
   "cell_type": "markdown",
   "metadata": {},
   "source": [
    "# Multinomial Logistic Regression\n",
    "best score = .56"
   ]
  },
  {
   "cell_type": "code",
   "execution_count": 22,
   "metadata": {},
   "outputs": [],
   "source": [
    "lr_model = LogisticRegressionCV(multi_class=\"ovr\", cv=5, random_state=42)"
   ]
  },
  {
   "cell_type": "code",
   "execution_count": 23,
   "metadata": {},
   "outputs": [
    {
     "data": {
      "text/html": [
       "<style>#sk-container-id-4 {color: black;background-color: white;}#sk-container-id-4 pre{padding: 0;}#sk-container-id-4 div.sk-toggleable {background-color: white;}#sk-container-id-4 label.sk-toggleable__label {cursor: pointer;display: block;width: 100%;margin-bottom: 0;padding: 0.3em;box-sizing: border-box;text-align: center;}#sk-container-id-4 label.sk-toggleable__label-arrow:before {content: \"▸\";float: left;margin-right: 0.25em;color: #696969;}#sk-container-id-4 label.sk-toggleable__label-arrow:hover:before {color: black;}#sk-container-id-4 div.sk-estimator:hover label.sk-toggleable__label-arrow:before {color: black;}#sk-container-id-4 div.sk-toggleable__content {max-height: 0;max-width: 0;overflow: hidden;text-align: left;background-color: #f0f8ff;}#sk-container-id-4 div.sk-toggleable__content pre {margin: 0.2em;color: black;border-radius: 0.25em;background-color: #f0f8ff;}#sk-container-id-4 input.sk-toggleable__control:checked~div.sk-toggleable__content {max-height: 200px;max-width: 100%;overflow: auto;}#sk-container-id-4 input.sk-toggleable__control:checked~label.sk-toggleable__label-arrow:before {content: \"▾\";}#sk-container-id-4 div.sk-estimator input.sk-toggleable__control:checked~label.sk-toggleable__label {background-color: #d4ebff;}#sk-container-id-4 div.sk-label input.sk-toggleable__control:checked~label.sk-toggleable__label {background-color: #d4ebff;}#sk-container-id-4 input.sk-hidden--visually {border: 0;clip: rect(1px 1px 1px 1px);clip: rect(1px, 1px, 1px, 1px);height: 1px;margin: -1px;overflow: hidden;padding: 0;position: absolute;width: 1px;}#sk-container-id-4 div.sk-estimator {font-family: monospace;background-color: #f0f8ff;border: 1px dotted black;border-radius: 0.25em;box-sizing: border-box;margin-bottom: 0.5em;}#sk-container-id-4 div.sk-estimator:hover {background-color: #d4ebff;}#sk-container-id-4 div.sk-parallel-item::after {content: \"\";width: 100%;border-bottom: 1px solid gray;flex-grow: 1;}#sk-container-id-4 div.sk-label:hover label.sk-toggleable__label {background-color: #d4ebff;}#sk-container-id-4 div.sk-serial::before {content: \"\";position: absolute;border-left: 1px solid gray;box-sizing: border-box;top: 0;bottom: 0;left: 50%;z-index: 0;}#sk-container-id-4 div.sk-serial {display: flex;flex-direction: column;align-items: center;background-color: white;padding-right: 0.2em;padding-left: 0.2em;position: relative;}#sk-container-id-4 div.sk-item {position: relative;z-index: 1;}#sk-container-id-4 div.sk-parallel {display: flex;align-items: stretch;justify-content: center;background-color: white;position: relative;}#sk-container-id-4 div.sk-item::before, #sk-container-id-4 div.sk-parallel-item::before {content: \"\";position: absolute;border-left: 1px solid gray;box-sizing: border-box;top: 0;bottom: 0;left: 50%;z-index: -1;}#sk-container-id-4 div.sk-parallel-item {display: flex;flex-direction: column;z-index: 1;position: relative;background-color: white;}#sk-container-id-4 div.sk-parallel-item:first-child::after {align-self: flex-end;width: 50%;}#sk-container-id-4 div.sk-parallel-item:last-child::after {align-self: flex-start;width: 50%;}#sk-container-id-4 div.sk-parallel-item:only-child::after {width: 0;}#sk-container-id-4 div.sk-dashed-wrapped {border: 1px dashed gray;margin: 0 0.4em 0.5em 0.4em;box-sizing: border-box;padding-bottom: 0.4em;background-color: white;}#sk-container-id-4 div.sk-label label {font-family: monospace;font-weight: bold;display: inline-block;line-height: 1.2em;}#sk-container-id-4 div.sk-label-container {text-align: center;}#sk-container-id-4 div.sk-container {/* jupyter's `normalize.less` sets `[hidden] { display: none; }` but bootstrap.min.css set `[hidden] { display: none !important; }` so we also need the `!important` here to be able to override the default hidden behavior on the sphinx rendered scikit-learn.org. See: https://github.com/scikit-learn/scikit-learn/issues/21755 */display: inline-block !important;position: relative;}#sk-container-id-4 div.sk-text-repr-fallback {display: none;}</style><div id=\"sk-container-id-4\" class=\"sk-top-container\"><div class=\"sk-text-repr-fallback\"><pre>GridSearchCV(estimator=LogisticRegressionCV(cv=5, multi_class=&#x27;ovr&#x27;,\n",
       "                                            random_state=42),\n",
       "             param_grid={&#x27;Cs&#x27;: [8, 10, 12], &#x27;cv&#x27;: [3, 5, 7]})</pre><b>In a Jupyter environment, please rerun this cell to show the HTML representation or trust the notebook. <br />On GitHub, the HTML representation is unable to render, please try loading this page with nbviewer.org.</b></div><div class=\"sk-container\" hidden><div class=\"sk-item sk-dashed-wrapped\"><div class=\"sk-label-container\"><div class=\"sk-label sk-toggleable\"><input class=\"sk-toggleable__control sk-hidden--visually\" id=\"sk-estimator-id-10\" type=\"checkbox\" ><label for=\"sk-estimator-id-10\" class=\"sk-toggleable__label sk-toggleable__label-arrow\">GridSearchCV</label><div class=\"sk-toggleable__content\"><pre>GridSearchCV(estimator=LogisticRegressionCV(cv=5, multi_class=&#x27;ovr&#x27;,\n",
       "                                            random_state=42),\n",
       "             param_grid={&#x27;Cs&#x27;: [8, 10, 12], &#x27;cv&#x27;: [3, 5, 7]})</pre></div></div></div><div class=\"sk-parallel\"><div class=\"sk-parallel-item\"><div class=\"sk-item\"><div class=\"sk-label-container\"><div class=\"sk-label sk-toggleable\"><input class=\"sk-toggleable__control sk-hidden--visually\" id=\"sk-estimator-id-11\" type=\"checkbox\" ><label for=\"sk-estimator-id-11\" class=\"sk-toggleable__label sk-toggleable__label-arrow\">estimator: LogisticRegressionCV</label><div class=\"sk-toggleable__content\"><pre>LogisticRegressionCV(cv=5, multi_class=&#x27;ovr&#x27;, random_state=42)</pre></div></div></div><div class=\"sk-serial\"><div class=\"sk-item\"><div class=\"sk-estimator sk-toggleable\"><input class=\"sk-toggleable__control sk-hidden--visually\" id=\"sk-estimator-id-12\" type=\"checkbox\" ><label for=\"sk-estimator-id-12\" class=\"sk-toggleable__label sk-toggleable__label-arrow\">LogisticRegressionCV</label><div class=\"sk-toggleable__content\"><pre>LogisticRegressionCV(cv=5, multi_class=&#x27;ovr&#x27;, random_state=42)</pre></div></div></div></div></div></div></div></div></div></div>"
      ],
      "text/plain": [
       "GridSearchCV(estimator=LogisticRegressionCV(cv=5, multi_class='ovr',\n",
       "                                            random_state=42),\n",
       "             param_grid={'Cs': [8, 10, 12], 'cv': [3, 5, 7]})"
      ]
     },
     "execution_count": 23,
     "metadata": {},
     "output_type": "execute_result"
    }
   ],
   "source": [
    "grid_params = {\n",
    "    \"Cs\" : [8, 10, 12],\n",
    "    \"cv\" : [3, 5, 7]\n",
    "}\n",
    "\n",
    "lr_grid = GridSearchCV(lr_model, param_grid=grid_params)\n",
    "lr_grid.fit(X_train, y_train)"
   ]
  },
  {
   "cell_type": "code",
   "execution_count": 24,
   "metadata": {},
   "outputs": [
    {
     "data": {
      "text/plain": [
       "0.6125"
      ]
     },
     "execution_count": 24,
     "metadata": {},
     "output_type": "execute_result"
    }
   ],
   "source": [
    "lr_grid.best_score_"
   ]
  },
  {
   "cell_type": "code",
   "execution_count": 25,
   "metadata": {},
   "outputs": [
    {
     "data": {
      "text/plain": [
       "0.5666666666666667"
      ]
     },
     "execution_count": 25,
     "metadata": {},
     "output_type": "execute_result"
    }
   ],
   "source": [
    "lr_grid.score(X_test, y_test)"
   ]
  },
  {
   "attachments": {},
   "cell_type": "markdown",
   "metadata": {},
   "source": [
    "# Tensorflow\n",
    "best score = .88"
   ]
  },
  {
   "cell_type": "code",
   "execution_count": 16,
   "metadata": {},
   "outputs": [],
   "source": [
    "tf = Sequential()\n",
    "tf.add(Dense(10, input_dim=4, activation=\"relu\"))\n",
    "tf.add(Dense(20, activation=\"relu\")),\n",
    "tf.add(Dense(10, activation=\"relu\")),\n",
    "tf.add(Dense(6, activation=\"softmax\"))\n",
    "\n",
    "stop = EarlyStopping(monitor=\"loss\", patience=3)\n",
    "\n",
    "# compile model\n",
    "tf.compile(loss=\"sparse_categorical_crossentropy\",\n",
    "           optimizer=\"nadam\",\n",
    "           metrics=[\"accuracy\"])"
   ]
  },
  {
   "cell_type": "code",
   "execution_count": 17,
   "metadata": {},
   "outputs": [
    {
     "name": "stdout",
     "output_type": "stream",
     "text": [
      "Epoch 1/200\n",
      "12/12 [==============================] - 1s 2ms/step - loss: 2.5267 - accuracy: 0.2542\n",
      "Epoch 2/200\n",
      "12/12 [==============================] - 0s 2ms/step - loss: 2.1100 - accuracy: 0.2458\n",
      "Epoch 3/200\n",
      "12/12 [==============================] - 0s 2ms/step - loss: 1.7744 - accuracy: 0.2500\n",
      "Epoch 4/200\n",
      "12/12 [==============================] - 0s 2ms/step - loss: 1.5518 - accuracy: 0.4250\n",
      "Epoch 5/200\n",
      "12/12 [==============================] - 0s 2ms/step - loss: 1.4261 - accuracy: 0.5958\n",
      "Epoch 6/200\n",
      "12/12 [==============================] - 0s 2ms/step - loss: 1.3367 - accuracy: 0.5375\n",
      "Epoch 7/200\n",
      "12/12 [==============================] - 0s 2ms/step - loss: 1.2799 - accuracy: 0.5458\n",
      "Epoch 8/200\n",
      "12/12 [==============================] - 0s 2ms/step - loss: 1.2200 - accuracy: 0.5875\n",
      "Epoch 9/200\n",
      "12/12 [==============================] - 0s 2ms/step - loss: 1.1486 - accuracy: 0.6250\n",
      "Epoch 10/200\n",
      "12/12 [==============================] - 0s 2ms/step - loss: 1.0733 - accuracy: 0.6333\n",
      "Epoch 11/200\n",
      "12/12 [==============================] - 0s 2ms/step - loss: 0.9781 - accuracy: 0.6708\n",
      "Epoch 12/200\n",
      "12/12 [==============================] - 0s 2ms/step - loss: 0.8998 - accuracy: 0.7875\n",
      "Epoch 13/200\n",
      "12/12 [==============================] - 0s 2ms/step - loss: 0.8470 - accuracy: 0.8125\n",
      "Epoch 14/200\n",
      "12/12 [==============================] - 0s 2ms/step - loss: 0.7975 - accuracy: 0.8125\n",
      "Epoch 15/200\n",
      "12/12 [==============================] - 0s 2ms/step - loss: 0.7618 - accuracy: 0.7958\n",
      "Epoch 16/200\n",
      "12/12 [==============================] - 0s 2ms/step - loss: 0.7314 - accuracy: 0.8333\n",
      "Epoch 17/200\n",
      "12/12 [==============================] - 0s 2ms/step - loss: 0.7046 - accuracy: 0.8250\n",
      "Epoch 18/200\n",
      "12/12 [==============================] - 0s 2ms/step - loss: 0.6733 - accuracy: 0.7917\n",
      "Epoch 19/200\n",
      "12/12 [==============================] - 0s 2ms/step - loss: 0.6602 - accuracy: 0.8250\n",
      "Epoch 20/200\n",
      "12/12 [==============================] - 0s 2ms/step - loss: 0.6326 - accuracy: 0.8417\n",
      "Epoch 21/200\n",
      "12/12 [==============================] - 0s 2ms/step - loss: 0.6017 - accuracy: 0.8708\n",
      "Epoch 22/200\n",
      "12/12 [==============================] - 0s 2ms/step - loss: 0.5776 - accuracy: 0.8500\n",
      "Epoch 23/200\n",
      "12/12 [==============================] - 0s 2ms/step - loss: 0.5555 - accuracy: 0.8792\n",
      "Epoch 24/200\n",
      "12/12 [==============================] - 0s 2ms/step - loss: 0.5415 - accuracy: 0.8583\n",
      "Epoch 25/200\n",
      "12/12 [==============================] - 0s 2ms/step - loss: 0.5187 - accuracy: 0.8792\n",
      "Epoch 26/200\n",
      "12/12 [==============================] - 0s 2ms/step - loss: 0.5044 - accuracy: 0.8917\n",
      "Epoch 27/200\n",
      "12/12 [==============================] - 0s 2ms/step - loss: 0.4924 - accuracy: 0.8708\n",
      "Epoch 28/200\n",
      "12/12 [==============================] - 0s 2ms/step - loss: 0.4842 - accuracy: 0.9000\n",
      "Epoch 29/200\n",
      "12/12 [==============================] - 0s 2ms/step - loss: 0.4596 - accuracy: 0.8917\n",
      "Epoch 30/200\n",
      "12/12 [==============================] - 0s 2ms/step - loss: 0.4556 - accuracy: 0.8958\n",
      "Epoch 31/200\n",
      "12/12 [==============================] - 0s 2ms/step - loss: 0.4542 - accuracy: 0.8750\n",
      "Epoch 32/200\n",
      "12/12 [==============================] - 0s 2ms/step - loss: 0.4367 - accuracy: 0.8708\n",
      "Epoch 33/200\n",
      "12/12 [==============================] - 0s 2ms/step - loss: 0.4232 - accuracy: 0.9000\n",
      "Epoch 34/200\n",
      "12/12 [==============================] - 0s 12ms/step - loss: 0.4043 - accuracy: 0.9125\n",
      "Epoch 35/200\n",
      "12/12 [==============================] - 0s 2ms/step - loss: 0.4117 - accuracy: 0.8917\n",
      "Epoch 36/200\n",
      "12/12 [==============================] - 0s 2ms/step - loss: 0.4007 - accuracy: 0.8833\n",
      "Epoch 37/200\n",
      "12/12 [==============================] - 0s 2ms/step - loss: 0.4049 - accuracy: 0.8875\n",
      "Epoch 38/200\n",
      "12/12 [==============================] - 0s 2ms/step - loss: 0.4088 - accuracy: 0.9083\n",
      "Epoch 39/200\n",
      "12/12 [==============================] - 0s 2ms/step - loss: 0.3693 - accuracy: 0.9083\n",
      "Epoch 40/200\n",
      "12/12 [==============================] - 0s 2ms/step - loss: 0.3551 - accuracy: 0.9250\n",
      "Epoch 41/200\n",
      "12/12 [==============================] - 0s 2ms/step - loss: 0.3686 - accuracy: 0.9083\n",
      "Epoch 42/200\n",
      "12/12 [==============================] - 0s 2ms/step - loss: 0.4064 - accuracy: 0.8625\n",
      "Epoch 43/200\n",
      "12/12 [==============================] - 0s 2ms/step - loss: 0.3268 - accuracy: 0.9292\n",
      "Epoch 44/200\n",
      "12/12 [==============================] - 0s 2ms/step - loss: 0.3311 - accuracy: 0.9000\n",
      "Epoch 45/200\n",
      "12/12 [==============================] - 0s 2ms/step - loss: 0.3192 - accuracy: 0.9208\n",
      "Epoch 46/200\n",
      "12/12 [==============================] - 0s 2ms/step - loss: 0.3557 - accuracy: 0.9042\n",
      "Epoch 47/200\n",
      "12/12 [==============================] - 0s 2ms/step - loss: 0.3305 - accuracy: 0.9208\n",
      "Epoch 48/200\n",
      "12/12 [==============================] - 0s 2ms/step - loss: 0.3099 - accuracy: 0.9250\n",
      "Epoch 49/200\n",
      "12/12 [==============================] - 0s 2ms/step - loss: 0.3058 - accuracy: 0.9292\n",
      "Epoch 50/200\n",
      "12/12 [==============================] - 0s 2ms/step - loss: 0.3001 - accuracy: 0.9250\n",
      "Epoch 51/200\n",
      "12/12 [==============================] - 0s 2ms/step - loss: 0.3033 - accuracy: 0.9292\n",
      "Epoch 52/200\n",
      "12/12 [==============================] - 0s 2ms/step - loss: 0.2764 - accuracy: 0.9417\n",
      "Epoch 53/200\n",
      "12/12 [==============================] - 0s 2ms/step - loss: 0.2764 - accuracy: 0.9292\n",
      "Epoch 54/200\n",
      "12/12 [==============================] - 0s 2ms/step - loss: 0.2662 - accuracy: 0.9333\n",
      "Epoch 55/200\n",
      "12/12 [==============================] - 0s 2ms/step - loss: 0.2866 - accuracy: 0.9375\n",
      "Epoch 56/200\n",
      "12/12 [==============================] - 0s 2ms/step - loss: 0.2723 - accuracy: 0.9375\n",
      "Epoch 57/200\n",
      "12/12 [==============================] - 0s 2ms/step - loss: 0.2676 - accuracy: 0.9375\n"
     ]
    },
    {
     "data": {
      "text/plain": [
       "<keras.callbacks.History at 0x7fec4b07d820>"
      ]
     },
     "execution_count": 17,
     "metadata": {},
     "output_type": "execute_result"
    }
   ],
   "source": [
    "tf.fit(X_train, y_train, batch_size=20, epochs=200, callbacks=[stop])"
   ]
  },
  {
   "cell_type": "code",
   "execution_count": 18,
   "metadata": {},
   "outputs": [
    {
     "name": "stdout",
     "output_type": "stream",
     "text": [
      "2/2 [==============================] - 0s 5ms/step - loss: 0.3481 - accuracy: 0.8833\n"
     ]
    },
    {
     "data": {
      "text/plain": [
       "[0.34806981682777405, 0.8833333253860474]"
      ]
     },
     "execution_count": 18,
     "metadata": {},
     "output_type": "execute_result"
    }
   ],
   "source": [
    "tf.evaluate(X_test, y_test)"
   ]
  },
  {
   "attachments": {},
   "cell_type": "markdown",
   "metadata": {},
   "source": [
    "# Conclusion"
   ]
  },
  {
   "attachments": {},
   "cell_type": "markdown",
   "metadata": {},
   "source": [
    "My TensorFlow neural network and random forest classifier tied for best model. I will use the random forest model for the app since it is simpler and I am unsure of how to get a confidence score for a neural network. The random forest was ok to begin with but improved from increasing n_estimators."
   ]
  }
 ],
 "metadata": {
  "kernelspec": {
   "display_name": "venv",
   "language": "python",
   "name": "python3"
  },
  "language_info": {
   "codemirror_mode": {
    "name": "ipython",
    "version": 3
   },
   "file_extension": ".py",
   "mimetype": "text/x-python",
   "name": "python",
   "nbconvert_exporter": "python",
   "pygments_lexer": "ipython3",
   "version": "3.9.13"
  },
  "orig_nbformat": 4
 },
 "nbformat": 4,
 "nbformat_minor": 2
}
